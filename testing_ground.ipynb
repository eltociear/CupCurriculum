{
 "cells": [
  {
   "cell_type": "code",
   "execution_count": 1,
   "outputs": [],
   "source": [
    "import os\n",
    "import sys\n",
    "import argparse\n",
    "from typing import Tuple\n",
    "from tensorboardX import SummaryWriter\n",
    "import copy\n",
    "import time\n",
    "import math\n",
    "import numpy as np\n",
    "import pickle\n",
    "\n",
    "# Progressbar\n",
    "from tqdm import tqdm\n",
    "\n",
    "# Plotting\n",
    "import matplotlib.pyplot as plt\n",
    "import seaborn as sns\n",
    "\n",
    "# Highlevel from Pytorch\n",
    "import torch as T\n",
    "from torch import nn, Tensor\n",
    "import torch.optim as opt\n",
    "\n",
    "# Neural Network parts from Pytorch\n",
    "from torch.nn import TransformerEncoder, TransformerEncoderLayer, init\n",
    "import torch.nn.functional as F\n",
    "\n",
    "# Pytorch's Dataset and Dataloader\n",
    "from torch.utils.data import dataset\n",
    "from torch.utils.data import DataLoader\n",
    "\n",
    "# Dataset used\n",
    "from torchtext.datasets import WikiText2\n",
    "from torchtext.data.utils import get_tokenizer\n",
    "from torchtext.vocab import build_vocab_from_iterator\n",
    "\n",
    "# Custom Libraries\n",
    "import utils\n",
    "device = T.device('cuda' if T.cuda.is_available() else 'cpu')"
   ],
   "metadata": {
    "collapsed": false,
    "pycharm": {
     "name": "#%%\n"
    }
   }
  },
  {
   "cell_type": "code",
   "execution_count": 48,
   "outputs": [
    {
     "name": "stdout",
     "output_type": "stream",
     "text": [
      "tensor([[-0.4883, -0.8603,  0.1949,  0.9360, -0.2653,  0.9984,  0.1518,  1.6416],\n",
      "        [-0.4055, -0.7655, -1.5525, -0.3270,  0.6278, -0.0049,  0.4047,  1.1653],\n",
      "        [ 0.9869,  0.3389, -0.2202,  0.8862, -1.2199, -0.6823, -0.9011, -1.0080],\n",
      "        [-0.8242, -0.6549, -0.0313, -1.8023, -0.7478, -1.4788, -1.9948,  0.9324],\n",
      "        [ 0.4012, -0.0551,  0.9528, -0.4568, -0.3072,  0.3726,  0.0257, -2.2613],\n",
      "        [-1.0378, -0.0303,  0.8778, -0.9847,  0.4161,  0.3677, -1.5169,  0.3297],\n",
      "        [ 1.8308,  0.0353,  0.1586, -1.1134, -0.4956,  0.1908,  1.1411,  0.2497],\n",
      "        [ 0.4237, -0.3697,  1.4696, -1.2126,  1.9719,  1.0447,  1.0107, -0.7898]])\n",
      "tensor([[0., 0., 1., 1., 0., 1., 1., 1.],\n",
      "        [0., 0., 0., 0., 1., 1., 1., 1.],\n",
      "        [1., 1., 0., 1., 0., 0., 0., 0.],\n",
      "        [0., 0., 0., 0., 0., 0., 0., 1.],\n",
      "        [1., 0., 1., 0., 0., 1., 1., 0.],\n",
      "        [0., 0., 1., 0., 1., 1., 0., 1.],\n",
      "        [1., 1., 1., 0., 0., 1., 1., 1.],\n",
      "        [1., 0., 1., 0., 1., 1., 1., 0.]])\n"
     ]
    }
   ],
   "source": [
    "pr = 0.5\n",
    "a = T.randn(8,8)\n",
    "m_w = T.ones_like(a)\n",
    "print(a)\n",
    "b, i = T.sort(a.view(a.numel()))\n",
    "# a.view(a.numel())[i[:round(a.numel()*pr)]] = 0\n",
    "m_w.view(a.numel())[i[:round(a.numel() * pr)]] = 0\n",
    "print(m_w)"
   ],
   "metadata": {
    "collapsed": false,
    "pycharm": {
     "name": "#%%\n"
    }
   }
  },
  {
   "cell_type": "code",
   "execution_count": 24,
   "outputs": [
    {
     "name": "stdout",
     "output_type": "stream",
     "text": [
      "0\n"
     ]
    }
   ],
   "source": [
    "gamma = T.tensor([0,0,0])\n",
    "print(gamma[gamma.nonzero(as_tuple = True)].numel())\n"
   ],
   "metadata": {
    "collapsed": false,
    "pycharm": {
     "name": "#%%\n"
    }
   }
  },
  {
   "cell_type": "code",
   "execution_count": 46,
   "outputs": [
    {
     "name": "stdout",
     "output_type": "stream",
     "text": [
      "True\n",
      "-inf\n"
     ]
    }
   ],
   "source": [
    "print(0 == 0.)\n",
    "print(f\"{5+float('-inf')}\")"
   ],
   "metadata": {
    "collapsed": false,
    "pycharm": {
     "name": "#%%\n"
    }
   }
  },
  {
   "cell_type": "code",
   "execution_count": 56,
   "outputs": [],
   "source": [
    "mask_list = []\n",
    "first_mask = [m_w,m_w,m_w]\n",
    "second_mask = [m_w,m_w,m_w]\n",
    "mask_list.append(first_mask)\n",
    "mask_list.append(second_mask)"
   ],
   "metadata": {
    "collapsed": false,
    "pycharm": {
     "name": "#%%\n"
    }
   }
  },
  {
   "cell_type": "code",
   "execution_count": 60,
   "outputs": [
    {
     "name": "stdout",
     "output_type": "stream",
     "text": [
      "True\n",
      "True\n",
      "True\n"
     ]
    },
    {
     "data": {
      "text/plain": "[None, None, None]"
     },
     "execution_count": 60,
     "metadata": {},
     "output_type": "execute_result"
    }
   ],
   "source": [
    "[T.equal(wambo, mask_list[-2][num]) for num,wambo in enumerate(mask_list[-1])]"
   ],
   "metadata": {
    "collapsed": false,
    "pycharm": {
     "name": "#%%\n"
    }
   }
  }
 ],
 "metadata": {
  "kernelspec": {
   "display_name": "Python 3",
   "language": "python",
   "name": "python3"
  },
  "language_info": {
   "codemirror_mode": {
    "name": "ipython",
    "version": 2
   },
   "file_extension": ".py",
   "mimetype": "text/x-python",
   "name": "python",
   "nbconvert_exporter": "python",
   "pygments_lexer": "ipython2",
   "version": "2.7.6"
  }
 },
 "nbformat": 4,
 "nbformat_minor": 0
}