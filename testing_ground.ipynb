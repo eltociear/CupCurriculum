{
 "cells": [
  {
   "cell_type": "code",
   "execution_count": 1,
   "outputs": [],
   "source": [
    "import os\n",
    "import sys\n",
    "import argparse\n",
    "from typing import Tuple\n",
    "from tensorboardX import SummaryWriter\n",
    "import copy\n",
    "import time\n",
    "import math\n",
    "import numpy as np\n",
    "import pickle\n",
    "\n",
    "# Progressbar\n",
    "from tqdm import tqdm\n",
    "\n",
    "# Plotting\n",
    "import matplotlib.pyplot as plt\n",
    "import seaborn as sns\n",
    "\n",
    "# Highlevel from Pytorch\n",
    "import torch as T\n",
    "from torch import nn, Tensor\n",
    "import torch.optim as opt\n",
    "\n",
    "# Neural Network parts from Pytorch\n",
    "from torch.nn import TransformerEncoder, TransformerEncoderLayer, init\n",
    "import torch.nn.functional as F\n",
    "\n",
    "# Pytorch's Dataset and Dataloader\n",
    "from torch.utils.data import dataset\n",
    "from torch.utils.data import DataLoader\n",
    "\n",
    "# Dataset used\n",
    "from torchtext.datasets import WikiText2\n",
    "from torchtext.data.utils import get_tokenizer\n",
    "from torchtext.vocab import build_vocab_from_iterator\n",
    "\n",
    "# Custom Libraries\n",
    "import utils\n",
    "device = T.device('cuda' if T.cuda.is_available() else 'cpu')"
   ],
   "metadata": {
    "collapsed": false,
    "pycharm": {
     "name": "#%%\n"
    }
   }
  },
  {
   "cell_type": "code",
   "execution_count": 3,
   "outputs": [
    {
     "name": "stdout",
     "output_type": "stream",
     "text": [
      "tensor([0., 1., 2., 3., 4., 5., 6., 7., 8., 9.], dtype=torch.float64)\n",
      "tensor(2.8000, dtype=torch.float64)\n"
     ]
    }
   ],
   "source": [
    "a = T.arange(0,10, dtype=float)\n",
    "b = T.quantile(a+1,0.2)\n",
    "print(a)\n",
    "print(b)"
   ],
   "metadata": {
    "collapsed": false,
    "pycharm": {
     "name": "#%%\n"
    }
   }
  },
  {
   "cell_type": "code",
   "execution_count": null,
   "outputs": [],
   "source": [],
   "metadata": {
    "collapsed": false,
    "pycharm": {
     "name": "#%%\n"
    }
   }
  }
 ],
 "metadata": {
  "kernelspec": {
   "display_name": "Python 3",
   "language": "python",
   "name": "python3"
  },
  "language_info": {
   "codemirror_mode": {
    "name": "ipython",
    "version": 2
   },
   "file_extension": ".py",
   "mimetype": "text/x-python",
   "name": "python",
   "nbconvert_exporter": "python",
   "pygments_lexer": "ipython2",
   "version": "2.7.6"
  }
 },
 "nbformat": 4,
 "nbformat_minor": 0
}