{
 "cells": [
  {
   "cell_type": "code",
   "execution_count": 55,
   "metadata": {
    "collapsed": true,
    "pycharm": {
     "name": "#%%\n"
    }
   },
   "outputs": [
    {
     "name": "stdout",
     "output_type": "stream",
     "text": [
      "tensor([1., 1., 1., 1., 1., 1., 1., 1.])\n",
      "tensor([0., 1., 1., 1., 1., 1., 1., 1.])\n",
      "tensor([0., 0., 1., 1., 1., 1., 1., 1.])\n",
      "tensor([0., 0., 0., 1., 1., 1., 1., 1.])\n",
      "tensor([0., 0., 0., 0., 1., 1., 1., 1.])\n",
      "tensor([0., 0., 0., 0., 0., 1., 1., 1.])\n",
      "tensor([0., 0., 0., 0., 0., 0., 1., 1.])\n",
      "tensor([0., 0., 0., 0., 0., 0., 0., 1.])\n",
      "tensor([ 0.,  0.,  0.,  0.,  0.,  0., -1.,  1.])\n",
      "tensor([ 0.,  0.,  0.,  0.,  0., -2., -1.,  1.])\n",
      "tensor([ 0.,  0.,  0.,  0., -3., -2., -1.,  1.])\n",
      "tensor([ 0.,  0.,  0., -4., -3., -2., -1.,  1.])\n",
      "tensor([ 0.,  0., -5., -4., -3., -2., -1.,  1.])\n",
      "tensor([ 0., -6., -5., -4., -3., -2., -1.,  1.])\n",
      "tensor([-7., -6., -5., -4., -3., -2., -1.,  1.])\n"
     ]
    }
   ],
   "source": [
    "import torch as T\n",
    "import copy\n",
    "\n",
    "\n",
    "def symmetric_difference(l:list)->list:\n",
    "    sym_dif_list = []\n",
    "    for i in range(len(l)-1):\n",
    "        a = l[i]\n",
    "        b = l[i+1]\n",
    "        sym_dif = a.to(dtype=bool)\n",
    "        sym_dif[T.eq(a,b)] = False\n",
    "        sym_dif_list.append(sym_dif)\n",
    "    return sym_dif_list\n",
    "\n",
    "listing = []\n",
    "snake = T.ones((8,))\n",
    "for i in range(8):\n",
    "    alpha = copy.deepcopy(snake)\n",
    "    alpha[:i] = 0\n",
    "    listing.append(alpha)\n",
    "    print(listing[i])\n",
    "snake = alpha\n",
    "\n",
    "dif = symmetric_difference(listing)\n",
    "dif.reverse()\n",
    "init = -1\n",
    "for d in dif:\n",
    "    snake[d] = init\n",
    "    init -= 1\n",
    "    print(snake)"
   ]
  },
  {
   "cell_type": "code",
   "execution_count": null,
   "outputs": [],
   "source": [
    "[,],    [,],    [,],    [,]\n",
    "[,],[,],[,],[,],[,],[,],[,],[,]"
   ],
   "metadata": {
    "collapsed": false,
    "pycharm": {
     "name": "#%%\n"
    }
   }
  }
 ],
 "metadata": {
  "kernelspec": {
   "display_name": "Python 3",
   "language": "python",
   "name": "python3"
  },
  "language_info": {
   "codemirror_mode": {
    "name": "ipython",
    "version": 2
   },
   "file_extension": ".py",
   "mimetype": "text/x-python",
   "name": "python",
   "nbconvert_exporter": "python",
   "pygments_lexer": "ipython2",
   "version": "2.7.6"
  }
 },
 "nbformat": 4,
 "nbformat_minor": 0
}